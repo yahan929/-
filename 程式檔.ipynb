{
  "nbformat": 4,
  "nbformat_minor": 0,
  "metadata": {
    "colab": {
      "name": "Untitled9.ipynb",
      "provenance": [],
      "authorship_tag": "ABX9TyPz8wIj8B3igf9wMJYWRDFJ",
      "include_colab_link": true
    },
    "kernelspec": {
      "name": "python3",
      "display_name": "Python 3"
    }
  },
  "cells": [
    {
      "cell_type": "markdown",
      "metadata": {
        "id": "view-in-github",
        "colab_type": "text"
      },
      "source": [
        "<a href=\"https://colab.research.google.com/github/yahan929/-/blob/master/%E7%A8%8B%E5%BC%8F%E6%AA%94.ipynb\" target=\"_parent\"><img src=\"https://colab.research.google.com/assets/colab-badge.svg\" alt=\"Open In Colab\"/></a>"
      ]
    },
    {
      "cell_type": "code",
      "metadata": {
        "id": "tCGoZJ_Ewzmf",
        "colab_type": "code",
        "colab": {
          "base_uri": "https://localhost:8080/",
          "height": 504
        },
        "outputId": "07628ce8-60fa-4844-b1c6-d5f4e72f4e32"
      },
      "source": [
        "import time\n",
        "#你好 我的名字是FOOD 一個點餐機器人\n",
        "#很高興為您服務\n",
        "#**請問還有空位嗎？**\n",
        "#有的 請問幾位用餐？\n",
        "#**4**位大人\n",
        "#好的*4*位 裡面請\n",
        "\n",
        "\n",
        "print(\"你好我的名子是FOOD 一個點餐機器人\")\n",
        "print(\"很高興為您服務\")\n",
        "\n",
        "sit=input(\"\")\n",
        "\n",
        "while True:\n",
        "    peoplo=input(\"有的 請問幾位用餐？\\n\")\n",
        "    if int(peoplo)==4:\n",
        "        break\n",
        "    else:\n",
        "        print(\"請回答4\")\n",
        "\n",
        "\n",
        "\n",
        "print(\"好的\",peoplo,\"位 裡面請\")\n",
        "\n",
        "#今天要吃什麼？\n",
        "#**兩份義大利麵跟兩份燉飯**\n",
        "#**義大利麵**會辣可以接受嗎？\n",
        "#**請幫我把辣椒去掉**\n",
        "#好的 飲料需要嗎？\n",
        "#**開水 謝謝**\n",
        "\n",
        "food=input(\"今天要吃什麼？\\n\")\n",
        "\n",
        "print(food,\"會辣可以接受嗎？\")\n",
        "\n",
        "spicy=input(\"\")\n",
        "\n",
        "drink=input(\"好的 飲料需要嗎？\")\n",
        "for i in range(1,10) :\n",
        "    time.sleep(1)\n",
        "    print(\".\")\n",
        "    if i==5:\n",
        "        print(\"用餐中\")\n",
        "\n",
        "\n",
        "#這邊幫您做買單\n",
        "#**這樣總共多少錢？**\n",
        "#今天消費620加上一成服務費 一共是682元\n",
        "#**可以刷卡嗎？**\n",
        "#只收現金喔\n",
        "#那今天餐點合您胃口嗎？\n",
        "#還不錯\n",
        "\n",
        "how_much=input(\"這邊幫你做買單\\n\")\n",
        "\n",
        "print(\"今天消費620加上一成服務費 一共是682元\")\n",
        "\n",
        "pay=input(\"\")\n",
        "\n",
        "print(\"只收現金喔\")\n",
        "\n",
        "taste=input(\"那今天餐點合您胃口嗎？\\n\")\n",
        "\n",
        "\n",
        "#謝謝 歡迎下次光臨\n",
        "#謝謝\n",
        "\n",
        "\n",
        "print(\"謝謝 歡迎下次光臨\")"
      ],
      "execution_count": 1,
      "outputs": [
        {
          "output_type": "stream",
          "text": [
            "你好我的名子是FOOD 一個點餐機器人\n",
            "很高興為您服務\n",
            "請問還有空位嗎?\n",
            "有的 請問幾位用餐？\n",
            "4\n",
            "好的 4 位 裡面請\n",
            "今天要吃什麼？\n",
            "兩份義大利麵跟兩份燉飯\n",
            "兩份義大利麵跟兩份燉飯 會辣可以接受嗎？\n",
            "請幫我把辣椒去掉\n",
            "好的 飲料需要嗎？開水 謝謝\n",
            ".\n",
            ".\n",
            ".\n",
            ".\n",
            ".\n",
            "用餐中\n",
            ".\n",
            ".\n",
            ".\n",
            ".\n",
            "這邊幫你做買單\n",
            "這樣總共多少錢？\n",
            "今天消費620加上一成服務費 一共是682元\n",
            "可以刷卡嗎？\n",
            "只收現金喔\n",
            "那今天餐點合您胃口嗎？\n",
            "還不錯\n",
            "謝謝 歡迎下次光臨\n"
          ],
          "name": "stdout"
        }
      ]
    }
  ]
}